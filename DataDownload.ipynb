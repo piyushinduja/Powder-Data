{
 "cells": [
  {
   "cell_type": "code",
   "execution_count": 1,
   "id": "e6fe69e9-f057-456f-af62-09a8caaf9bfc",
   "metadata": {},
   "outputs": [],
   "source": [
    "import tarfile\n",
    "import gzip\n",
    "import shutil\n",
    "import os\n",
    "from tqdm import tqdm\n",
    "import pandas as pd\n",
    "from datetime import datetime\n",
    "from io import BytesIO\n",
    "import gdown"
   ]
  },
  {
   "cell_type": "code",
   "execution_count": 2,
   "id": "53d3d9f9-303d-4dce-a0cf-ac7c15facba0",
   "metadata": {},
   "outputs": [],
   "source": [
    "SAMPLE = 100\n",
    "\n",
    "def extract_csv_from_drive(link, idx):\n",
    "    file_path = f\"data_{idx}.tar.gz\"\n",
    "    gdown.download(link, file_path, quiet=False, fuzzy=True)\n",
    "    \n",
    "    with tarfile.open(file_path, \"r:gz\") as tar:\n",
    "        for member in tqdm(tar.getmembers()):\n",
    "            if member.name.endswith(\".csv.gz\"): \n",
    "                safe_name = member.name.replace(\":\", \"_\")\n",
    "                member.name = os.path.basename(safe_name)\n",
    "                tar.extract(member, f\"extracted_data/data_{idx}\")\n",
    "\n",
    "    for file in tqdm(os.listdir(f\"extracted_data/data_{idx}\")):\n",
    "        if file.endswith(\".csv.gz\"):\n",
    "            gz_file_path = os.path.join(f\"extracted_data/data_{idx}\", file)\n",
    "            csv_file_path = os.path.join(f\"final_csv_files/data_{idx}\", file.replace(\".gz\", \"\"))\n",
    "            with gzip.open(gz_file_path, \"rb\") as gz_file, open(csv_file_path, \"wb\") as csv_file:\n",
    "                shutil.copyfileobj(gz_file, csv_file)"
   ]
  },
  {
   "cell_type": "code",
   "execution_count": null,
   "id": "4a8dddce-6eef-4013-b2c2-c9898c0bfa64",
   "metadata": {},
   "outputs": [],
   "source": [
    "# drive_links = [\"https://drive.google.com/file/d/1UrIllwm2FIt-AEIPPPf0jS_9UU8pnNK6/view?usp=sharing\", \"https://drive.google.com/file/d/12OHCjEK0E__7PUsfhkCNtLJHIjt_PLLg/view?usp=sharing\", \"https://drive.google.com/file/d/1D-iPGMbbra6VRZ-qpBChd98TLdxdtRih/view?usp=sharing\", \"https://drive.google.com/file/d/1QwRH6U6f0U_fwb4FSeQ7cD5rfE_D1fh4/view?usp=sharing\"]\n",
    "drive_links = [\"https://drive.google.com/file/d/1qleN-t1xdRy0xwDiK6A-eRxjL4sZZMoo/view\", \"https://drive.google.com/file/d/13aenLqZxxGYC45vjV4poqI5ReYqx20R_/view\"]\n",
    "download_folder = \"downloaded_data\"\n",
    "os.makedirs(download_folder, exist_ok=True)"
   ]
  },
  {
   "cell_type": "code",
   "execution_count": 7,
   "id": "bf2c46ff-8d17-4647-a443-7cb571a10d00",
   "metadata": {},
   "outputs": [
    {
     "name": "stderr",
     "output_type": "stream",
     "text": [
      "Downloading...\n",
      "From (original): https://drive.google.com/uc?id=1qleN-t1xdRy0xwDiK6A-eRxjL4sZZMoo\n",
      "From (redirected): https://drive.google.com/uc?id=1qleN-t1xdRy0xwDiK6A-eRxjL4sZZMoo&confirm=t&uuid=9df99ce2-368e-4359-be7e-40b00764b3ed\n",
      "To: c:\\Users\\piyus\\Downloads\\PowderData\\Working Directory\\data_5.tar.gz\n",
      "100%|██████████| 635M/635M [00:35<00:00, 17.7MB/s] \n",
      "  0%|          | 0/1076 [00:00<?, ?it/s]C:\\Users\\piyus\\AppData\\Local\\Temp\\ipykernel_2976\\1982563481.py:12: DeprecationWarning: Python 3.14 will, by default, filter extracted tar archives and reject files or modify their metadata. Use the filter argument to control this behavior.\n",
      "  tar.extract(member, f\"extracted_data/data_{idx}\")\n",
      "100%|██████████| 1076/1076 [00:05<00:00, 179.72it/s]\n",
      "100%|██████████| 1076/1076 [00:29<00:00, 36.25it/s]\n"
     ]
    }
   ],
   "source": [
    "os.makedirs(\"extracted_data\", exist_ok=True)\n",
    "os.makedirs(\"final_csv_files\", exist_ok=True)\n",
    "idx = 5\n",
    "for link in drive_links:\n",
    "    os.makedirs(f\"extracted_data/data_{idx}\", exist_ok=True)\n",
    "    os.makedirs(f\"final_csv_files/data_{idx}\", exist_ok=True)\n",
    "    extract_csv_from_drive(link, idx)"
   ]
  },
  {
   "cell_type": "code",
   "execution_count": null,
   "id": "00889ba9-fe0e-42c8-be82-397b04c1347a",
   "metadata": {},
   "outputs": [],
   "source": []
  },
  {
   "cell_type": "code",
   "execution_count": null,
   "id": "7cb8163e-0c48-4aef-8a07-9bbbcdb7a52d",
   "metadata": {},
   "outputs": [],
   "source": [
    "def get_time_of_day(hour):\n",
    "    if 6 <= hour < 12:\n",
    "        return \"Morning\"\n",
    "    elif 12 <= hour < 18:\n",
    "        return \"Afternoon\"\n",
    "    elif 18 <= hour < 24:\n",
    "        return \"Evening\"\n",
    "    else:\n",
    "        return \"Night\""
   ]
  },
  {
   "cell_type": "code",
   "execution_count": null,
   "id": "92545571-41e4-4dc5-b8c6-ff3910d780aa",
   "metadata": {},
   "outputs": [],
   "source": [
    "dataframes = []\n",
    "\n",
    "for idx, link in enumerate(drive_links):\n",
    "    tar_file_path = os.path.join(download_folder, f\"data_{idx}.tar.gz\")\n",
    "    gdown.download(link, tar_file_path, quiet=False)\n",
    "    \n",
    "\n",
    "    with tarfile.open(tar_file_path, \"r:gz\") as tar:\n",
    "        tar.extractall(download_folder)\n",
    "\n",
    "    extracted_folder = os.path.join(download_folder, f\"data_{idx}\")\n",
    "    for root, _, files in os.walk(extracted_folder):\n",
    "            if file.endswith(\".csv\"):\n",
    "                file_path = os.path.join(root, file)\n",
    "                df = pd.read_csv(file_path)\n",
    "                timestamp = int(file.split('-')[1].split('.')[0])\n",
    "                local_dt = datetime.fromtimestamp(timestamp)\n",
    "                day = local_dt.strftime('%Y-%m-%d')\n",
    "                time_of_day = get_time_of_day(local_dt.hour)\n",
    "                df[\"Location_ID\"] = idx\n",
    "                df[\"Day\"] = day\n",
    "                df[\"Time_of_Day\"] = time_of_day\n",
    "                dataframes.append(df)\n",
    "\n",
    "main_df = pd.concat(dataframes, ignore_index=True)"
   ]
  }
 ],
 "metadata": {
  "kernelspec": {
   "display_name": "Python 3",
   "language": "python",
   "name": "python3"
  },
  "language_info": {
   "codemirror_mode": {
    "name": "ipython",
    "version": 3
   },
   "file_extension": ".py",
   "mimetype": "text/x-python",
   "name": "python",
   "nbconvert_exporter": "python",
   "pygments_lexer": "ipython3",
   "version": "3.12.8"
  }
 },
 "nbformat": 4,
 "nbformat_minor": 5
}
