{
 "cells": [
  {
   "cell_type": "code",
   "execution_count": 2,
   "id": "5149de7b-f012-494a-8012-d13f50a2ddcb",
   "metadata": {},
   "outputs": [],
   "source": [
    "import pandas as pd\n",
    "import glob\n",
    "import os\n",
    "from tqdm import tqdm\n",
    "from datetime import datetime\n",
    "from sklearn.preprocessing import StandardScaler, MinMaxScaler\n",
    "import seaborn as sns\n",
    "import xgboost as xgb\n",
    "from sklearn.model_selection import train_test_split\n",
    "import numpy as np\n",
    "from sklearn.metrics import mean_squared_error, mean_absolute_error, root_mean_squared_error\n",
    "import matplotlib.pyplot as plt\n",
    "import matplotlib.dates as mdates\n",
    "from scipy.stats import zscore"
   ]
  },
  {
   "cell_type": "code",
   "execution_count": 4,
   "id": "bce383c0-2641-4e7c-a97c-727d2dceed92",
   "metadata": {},
   "outputs": [],
   "source": [
    "DAY2IDX = {\"Monday\":0, \"Tuesday\":1, \"Wednesday\":2, \"Thursday\":3, \"Friday\":4, \"Saturday\":5, \"Sunday\":6}\n",
    "TIME2IDX = {\"Morning\":0, \"Afternoon\":1, \"Evening\":2, \"Night\":3}\n",
    "\n",
    "def get_time_of_day(hour):\n",
    "    if 6 <= hour < 12:\n",
    "        return 0\n",
    "    elif 12 <= hour < 18:\n",
    "        return 1\n",
    "    elif 18 <= hour < 24:\n",
    "        return 2\n",
    "    else:\n",
    "        return 3"
   ]
  },
  {
   "cell_type": "code",
   "execution_count": null,
   "id": "315ce1d4-a2e0-48d0-822b-b1a5abe3a980",
   "metadata": {},
   "outputs": [
    {
     "name": "stdout",
     "output_type": "stream",
     "text": [
      "data_0\n"
     ]
    },
    {
     "name": "stderr",
     "output_type": "stream",
     "text": [
      "100%|██████████| 2570/2570 [01:20<00:00, 31.75it/s]\n"
     ]
    },
    {
     "name": "stdout",
     "output_type": "stream",
     "text": [
      "data_1\n"
     ]
    },
    {
     "name": "stderr",
     "output_type": "stream",
     "text": [
      "100%|██████████| 1110/1110 [00:34<00:00, 31.95it/s]\n"
     ]
    },
    {
     "name": "stdout",
     "output_type": "stream",
     "text": [
      "data_2\n"
     ]
    },
    {
     "name": "stderr",
     "output_type": "stream",
     "text": [
      "100%|██████████| 1354/1354 [00:43<00:00, 31.02it/s]\n"
     ]
    },
    {
     "name": "stdout",
     "output_type": "stream",
     "text": [
      "data_3\n"
     ]
    },
    {
     "name": "stderr",
     "output_type": "stream",
     "text": [
      "100%|██████████| 1226/1226 [00:39<00:00, 30.67it/s]\n"
     ]
    },
    {
     "name": "stdout",
     "output_type": "stream",
     "text": [
      "data_4\n"
     ]
    },
    {
     "name": "stderr",
     "output_type": "stream",
     "text": [
      "100%|██████████| 1076/1076 [00:34<00:00, 30.76it/s]\n"
     ]
    },
    {
     "name": "stdout",
     "output_type": "stream",
     "text": [
      "data_5\n"
     ]
    },
    {
     "name": "stderr",
     "output_type": "stream",
     "text": [
      "100%|██████████| 901/901 [00:29<00:00, 30.92it/s]\n"
     ]
    }
   ],
   "source": [
    "dir_items = os.listdir(\"./final_csv_files\")\n",
    "req_folders = [\"data_8\", \"data_9\"]\n",
    "folders = [item for item in dir_items if os.path.isdir(os.path.join(\"./final_csv_files\", item)) and item in req_folders]  #  and item in req_folders\n",
    "dataframes = []\n",
    "for idx, folder in enumerate(folders): #################################\n",
    "    print(folder)\n",
    "    data_files = glob.glob(f\"./final_csv_files/{folder}/*.csv\") # Take 'n' number of files from each location\n",
    "    for file in tqdm(data_files):\n",
    "        df = pd.read_csv(file)\n",
    "        # df = df[(5875 >= df[\"frequency\"]) & (df[\"frequency\"] >= 5725)]\n",
    "        # df = df.loc[(df[\"frequency\"] - 2412).abs().idxmin()]\n",
    "        df = df[df[\"frequency\"]==2461.984] # 2411.978, 2436.981, 2461.984, 2483.987\n",
    "        closest_freq = df[\"frequency\"]\n",
    "        closest_power = df[\"power\"]\n",
    "        power_value = df.loc[df['frequency'] == 2461.984, 'power'].values[0]\n",
    "        filename = os.path.basename(file)\n",
    "        timestamp = int(filename.split('-')[1].split('.')[0])\n",
    "        local_dt = datetime.fromtimestamp(timestamp)\n",
    "        day = local_dt.strftime('%A')\n",
    "        time_of_day = get_time_of_day(local_dt.hour)\n",
    "        df[\"Day\"] = DAY2IDX[day]\n",
    "        # df[\"Time_of_Day\"] = TIME2IDX[time_of_day]\n",
    "        df[\"Time\"] = local_dt.time()\n",
    "        df[\"Location\"] = idx\n",
    "        dataframes.append(df)\n",
    "        date = local_dt.strftime('%x')\n",
    "        df[\"Date\"] = local_dt\n",
    "        # dataframes.append([value, DAY2IDX[day], TIME2IDX[time_of_day], idx, date])\n",
    "\n",
    "# main_df = pd.DataFrame(dataframes, columns=[\"Power\", \"Day\", \"Time_of_Day\", \"Location\", \"Date\"])\n",
    "main_df = pd.concat(dataframes, ignore_index=True)\n",
    "main_df = main_df.drop(columns=[\"center_freq\"])"
   ]
  },
  {
   "cell_type": "code",
   "execution_count": 4,
   "id": "16d68637",
   "metadata": {},
   "outputs": [],
   "source": [
    "main_df[\"Date\"] = pd.to_datetime(main_df[\"Date\"])"
   ]
  },
  {
   "cell_type": "code",
   "execution_count": 8,
   "id": "95ad6878",
   "metadata": {},
   "outputs": [
    {
     "data": {
      "text/html": [
       "<div>\n",
       "<style scoped>\n",
       "    .dataframe tbody tr th:only-of-type {\n",
       "        vertical-align: middle;\n",
       "    }\n",
       "\n",
       "    .dataframe tbody tr th {\n",
       "        vertical-align: top;\n",
       "    }\n",
       "\n",
       "    .dataframe thead th {\n",
       "        text-align: right;\n",
       "    }\n",
       "</style>\n",
       "<table border=\"1\" class=\"dataframe\">\n",
       "  <thead>\n",
       "    <tr style=\"text-align: right;\">\n",
       "      <th></th>\n",
       "      <th>frequency</th>\n",
       "      <th>power</th>\n",
       "      <th>Day</th>\n",
       "      <th>Time</th>\n",
       "      <th>Location</th>\n",
       "      <th>Date</th>\n",
       "    </tr>\n",
       "  </thead>\n",
       "  <tbody>\n",
       "    <tr>\n",
       "      <th>0</th>\n",
       "      <td>2411.978</td>\n",
       "      <td>-101.219</td>\n",
       "      <td>5</td>\n",
       "      <td>20:49:08</td>\n",
       "      <td>0</td>\n",
       "      <td>2023-12-02 20:49:08</td>\n",
       "    </tr>\n",
       "    <tr>\n",
       "      <th>1</th>\n",
       "      <td>2411.978</td>\n",
       "      <td>-100.516</td>\n",
       "      <td>1</td>\n",
       "      <td>11:43:00</td>\n",
       "      <td>0</td>\n",
       "      <td>2023-12-12 11:43:00</td>\n",
       "    </tr>\n",
       "    <tr>\n",
       "      <th>2</th>\n",
       "      <td>2411.978</td>\n",
       "      <td>-99.745</td>\n",
       "      <td>1</td>\n",
       "      <td>18:49:45</td>\n",
       "      <td>0</td>\n",
       "      <td>2023-12-12 18:49:45</td>\n",
       "    </tr>\n",
       "    <tr>\n",
       "      <th>3</th>\n",
       "      <td>2411.978</td>\n",
       "      <td>-100.721</td>\n",
       "      <td>2</td>\n",
       "      <td>02:10:08</td>\n",
       "      <td>0</td>\n",
       "      <td>2023-12-13 02:10:08</td>\n",
       "    </tr>\n",
       "    <tr>\n",
       "      <th>4</th>\n",
       "      <td>2411.978</td>\n",
       "      <td>-78.686</td>\n",
       "      <td>2</td>\n",
       "      <td>09:19:48</td>\n",
       "      <td>0</td>\n",
       "      <td>2023-12-13 09:19:48</td>\n",
       "    </tr>\n",
       "    <tr>\n",
       "      <th>...</th>\n",
       "      <td>...</td>\n",
       "      <td>...</td>\n",
       "      <td>...</td>\n",
       "      <td>...</td>\n",
       "      <td>...</td>\n",
       "      <td>...</td>\n",
       "    </tr>\n",
       "    <tr>\n",
       "      <th>8232</th>\n",
       "      <td>2411.978</td>\n",
       "      <td>-96.309</td>\n",
       "      <td>5</td>\n",
       "      <td>19:56:23</td>\n",
       "      <td>5</td>\n",
       "      <td>2025-03-15 19:56:23</td>\n",
       "    </tr>\n",
       "    <tr>\n",
       "      <th>8233</th>\n",
       "      <td>2411.978</td>\n",
       "      <td>-96.682</td>\n",
       "      <td>6</td>\n",
       "      <td>03:44:21</td>\n",
       "      <td>5</td>\n",
       "      <td>2025-03-16 03:44:21</td>\n",
       "    </tr>\n",
       "    <tr>\n",
       "      <th>8234</th>\n",
       "      <td>2411.978</td>\n",
       "      <td>-93.755</td>\n",
       "      <td>6</td>\n",
       "      <td>11:01:54</td>\n",
       "      <td>5</td>\n",
       "      <td>2025-03-16 11:01:54</td>\n",
       "    </tr>\n",
       "    <tr>\n",
       "      <th>8235</th>\n",
       "      <td>2411.978</td>\n",
       "      <td>-97.375</td>\n",
       "      <td>6</td>\n",
       "      <td>18:01:48</td>\n",
       "      <td>5</td>\n",
       "      <td>2025-03-16 18:01:48</td>\n",
       "    </tr>\n",
       "    <tr>\n",
       "      <th>8236</th>\n",
       "      <td>2411.978</td>\n",
       "      <td>-95.894</td>\n",
       "      <td>0</td>\n",
       "      <td>15:37:13</td>\n",
       "      <td>5</td>\n",
       "      <td>2025-03-17 15:37:13</td>\n",
       "    </tr>\n",
       "  </tbody>\n",
       "</table>\n",
       "<p>8237 rows × 6 columns</p>\n",
       "</div>"
      ],
      "text/plain": [
       "      frequency    power  Day      Time  Location                Date\n",
       "0      2411.978 -101.219    5  20:49:08         0 2023-12-02 20:49:08\n",
       "1      2411.978 -100.516    1  11:43:00         0 2023-12-12 11:43:00\n",
       "2      2411.978  -99.745    1  18:49:45         0 2023-12-12 18:49:45\n",
       "3      2411.978 -100.721    2  02:10:08         0 2023-12-13 02:10:08\n",
       "4      2411.978  -78.686    2  09:19:48         0 2023-12-13 09:19:48\n",
       "...         ...      ...  ...       ...       ...                 ...\n",
       "8232   2411.978  -96.309    5  19:56:23         5 2025-03-15 19:56:23\n",
       "8233   2411.978  -96.682    6  03:44:21         5 2025-03-16 03:44:21\n",
       "8234   2411.978  -93.755    6  11:01:54         5 2025-03-16 11:01:54\n",
       "8235   2411.978  -97.375    6  18:01:48         5 2025-03-16 18:01:48\n",
       "8236   2411.978  -95.894    0  15:37:13         5 2025-03-17 15:37:13\n",
       "\n",
       "[8237 rows x 6 columns]"
      ]
     },
     "execution_count": 8,
     "metadata": {},
     "output_type": "execute_result"
    }
   ],
   "source": [
    "main_df"
   ]
  },
  {
   "cell_type": "code",
   "execution_count": null,
   "id": "204ba991",
   "metadata": {},
   "outputs": [],
   "source": [
    "main_df.loc[main_df['Location'] == 0, \"Location\"] = 4\n",
    "main_df.loc[main_df['Location'] == 1, \"Location\"] = 5\n",
    "\n",
    "main_df_1 = pd.read_csv(\"./freq_2412.csv\")\n",
    "main_df = pd.concat([main_df, main_df_1], ignore_index=True)\n",
    "main_df"
   ]
  },
  {
   "cell_type": "code",
   "execution_count": null,
   "id": "dc20b363",
   "metadata": {},
   "outputs": [
    {
     "ename": "",
     "evalue": "",
     "output_type": "error",
     "traceback": [
      "\u001b[1;31mThe Kernel crashed while executing code in the current cell or a previous cell. \n",
      "\u001b[1;31mPlease review the code in the cell(s) to identify a possible cause of the failure. \n",
      "\u001b[1;31mClick <a href='https://aka.ms/vscodeJupyterKernelCrash'>here</a> for more info. \n",
      "\u001b[1;31mView Jupyter <a href='command:jupyter.viewOutput'>log</a> for further details."
     ]
    }
   ],
   "source": [
    "main_df.to_csv(\"./freq_2462.csv\", index=False)"
   ]
  },
  {
   "cell_type": "code",
   "execution_count": null,
   "id": "14f38b85-e3f1-48e3-b3c9-f98375d39650",
   "metadata": {},
   "outputs": [],
   "source": [
    "# main_df = main_df.drop(columns=[\"Location\"])\n",
    "# main_df.to_csv(\"loc0_first100.csv\", index=False)\n",
    "# df_0[\"Power\"].min()\n",
    "# main_df = pd.read_csv(\"freq_2412.csv\")\n",
    "# df_0 = main_df[main_df[\"Location\"]==0]\n",
    "# df_0.sort_values(by=\"Date\", ascending=True)\n",
    "# main_df = df_0"
   ]
  },
  {
   "cell_type": "code",
   "execution_count": 13,
   "id": "766a668f-84a0-4c4f-9a66-78a4968b4c8e",
   "metadata": {},
   "outputs": [
    {
     "data": {
      "text/html": [
       "<div>\n",
       "<style scoped>\n",
       "    .dataframe tbody tr th:only-of-type {\n",
       "        vertical-align: middle;\n",
       "    }\n",
       "\n",
       "    .dataframe tbody tr th {\n",
       "        vertical-align: top;\n",
       "    }\n",
       "\n",
       "    .dataframe thead th {\n",
       "        text-align: right;\n",
       "    }\n",
       "</style>\n",
       "<table border=\"1\" class=\"dataframe\">\n",
       "  <thead>\n",
       "    <tr style=\"text-align: right;\">\n",
       "      <th></th>\n",
       "      <th>frequency</th>\n",
       "      <th>power</th>\n",
       "      <th>Day</th>\n",
       "      <th>Time_of_Day</th>\n",
       "      <th>Location</th>\n",
       "      <th>Date</th>\n",
       "    </tr>\n",
       "  </thead>\n",
       "  <tbody>\n",
       "    <tr>\n",
       "      <th>0</th>\n",
       "      <td>2411.978</td>\n",
       "      <td>-104.558</td>\n",
       "      <td>6</td>\n",
       "      <td>0</td>\n",
       "      <td>4</td>\n",
       "      <td>11/26/23</td>\n",
       "    </tr>\n",
       "    <tr>\n",
       "      <th>1</th>\n",
       "      <td>2411.978</td>\n",
       "      <td>-104.357</td>\n",
       "      <td>6</td>\n",
       "      <td>1</td>\n",
       "      <td>4</td>\n",
       "      <td>11/26/23</td>\n",
       "    </tr>\n",
       "    <tr>\n",
       "      <th>2</th>\n",
       "      <td>2411.978</td>\n",
       "      <td>-104.352</td>\n",
       "      <td>0</td>\n",
       "      <td>1</td>\n",
       "      <td>4</td>\n",
       "      <td>11/27/23</td>\n",
       "    </tr>\n",
       "    <tr>\n",
       "      <th>3</th>\n",
       "      <td>2411.978</td>\n",
       "      <td>-104.332</td>\n",
       "      <td>0</td>\n",
       "      <td>0</td>\n",
       "      <td>4</td>\n",
       "      <td>11/27/23</td>\n",
       "    </tr>\n",
       "    <tr>\n",
       "      <th>4</th>\n",
       "      <td>2411.978</td>\n",
       "      <td>-104.301</td>\n",
       "      <td>0</td>\n",
       "      <td>0</td>\n",
       "      <td>4</td>\n",
       "      <td>11/27/23</td>\n",
       "    </tr>\n",
       "    <tr>\n",
       "      <th>...</th>\n",
       "      <td>...</td>\n",
       "      <td>...</td>\n",
       "      <td>...</td>\n",
       "      <td>...</td>\n",
       "      <td>...</td>\n",
       "      <td>...</td>\n",
       "    </tr>\n",
       "    <tr>\n",
       "      <th>8232</th>\n",
       "      <td>NaN</td>\n",
       "      <td>-100.653</td>\n",
       "      <td>1</td>\n",
       "      <td>1</td>\n",
       "      <td>3</td>\n",
       "      <td>01/21/25</td>\n",
       "    </tr>\n",
       "    <tr>\n",
       "      <th>8233</th>\n",
       "      <td>NaN</td>\n",
       "      <td>-98.667</td>\n",
       "      <td>2</td>\n",
       "      <td>0</td>\n",
       "      <td>3</td>\n",
       "      <td>01/22/25</td>\n",
       "    </tr>\n",
       "    <tr>\n",
       "      <th>8234</th>\n",
       "      <td>NaN</td>\n",
       "      <td>-89.942</td>\n",
       "      <td>2</td>\n",
       "      <td>0</td>\n",
       "      <td>3</td>\n",
       "      <td>01/22/25</td>\n",
       "    </tr>\n",
       "    <tr>\n",
       "      <th>8235</th>\n",
       "      <td>NaN</td>\n",
       "      <td>-94.236</td>\n",
       "      <td>2</td>\n",
       "      <td>1</td>\n",
       "      <td>3</td>\n",
       "      <td>01/22/25</td>\n",
       "    </tr>\n",
       "    <tr>\n",
       "      <th>8236</th>\n",
       "      <td>NaN</td>\n",
       "      <td>-92.474</td>\n",
       "      <td>3</td>\n",
       "      <td>0</td>\n",
       "      <td>3</td>\n",
       "      <td>01/23/25</td>\n",
       "    </tr>\n",
       "  </tbody>\n",
       "</table>\n",
       "<p>8237 rows × 6 columns</p>\n",
       "</div>"
      ],
      "text/plain": [
       "      frequency    power  Day  Time_of_Day  Location      Date\n",
       "0      2411.978 -104.558    6            0         4  11/26/23\n",
       "1      2411.978 -104.357    6            1         4  11/26/23\n",
       "2      2411.978 -104.352    0            1         4  11/27/23\n",
       "3      2411.978 -104.332    0            0         4  11/27/23\n",
       "4      2411.978 -104.301    0            0         4  11/27/23\n",
       "...         ...      ...  ...          ...       ...       ...\n",
       "8232        NaN -100.653    1            1         3  01/21/25\n",
       "8233        NaN  -98.667    2            0         3  01/22/25\n",
       "8234        NaN  -89.942    2            0         3  01/22/25\n",
       "8235        NaN  -94.236    2            1         3  01/22/25\n",
       "8236        NaN  -92.474    3            0         3  01/23/25\n",
       "\n",
       "[8237 rows x 6 columns]"
      ]
     },
     "execution_count": 13,
     "metadata": {},
     "output_type": "execute_result"
    }
   ],
   "source": [
    "main_df_1"
   ]
  },
  {
   "cell_type": "code",
   "execution_count": null,
   "id": "e8b8018d",
   "metadata": {},
   "outputs": [],
   "source": [
    "# 0: Day (Morning and Afternoon); 1: Night (Evening and Night)\n",
    "main_df_1 = main_df\n",
    "main_df_1.loc[main_df_1['Time_of_Day'] == 0, \"Time_of_Day\"] = 0\n",
    "main_df_1.loc[main_df_1['Time_of_Day'] == 1, \"Time_of_Day\"] = 0\n",
    "main_df_1.loc[main_df_1['Time_of_Day'] == 2, \"Time_of_Day\"] = 1\n",
    "main_df_1.loc[main_df_1['Time_of_Day'] == 3, \"Time_of_Day\"] = 1"
   ]
  },
  {
   "cell_type": "code",
   "execution_count": null,
   "id": "f7c72791",
   "metadata": {},
   "outputs": [],
   "source": [
    "main_df = []\n",
    "for idx, file in enumerate(os.listdir(\"./compressed_data/\")[:8]):\n",
    "    print(file)\n",
    "    df = pd.read_csv(\"./compressed_data/\"+file)\n",
    "    df = df[['frequency', 'power', 'Date']]\n",
    "    df['Date'] = pd.to_datetime(df['Date'])\n",
    "    df['day_of_week'] = df['Date'].dt.weekday\n",
    "    df['time_of_day'] = df['Date'].dt.hour\n",
    "    df['location'] = idx\n",
    "    main_df.append(df)\n",
    "\n",
    "main_df = pd.concat(main_df, ignore_index=True)\n",
    "main_df['time_of_day'] = main_df['time_of_day'].apply(get_time_of_day)"
   ]
  },
  {
   "cell_type": "code",
   "execution_count": 16,
   "id": "3266ce42-69f4-44b8-a6a1-f41f4795e9a0",
   "metadata": {},
   "outputs": [],
   "source": [
    "def train_model(main_df, scale=True):\n",
    "    if scale:\n",
    "        scaler = MinMaxScaler()\n",
    "        main_df[['power']] = scaler.fit_transform(main_df[['power']])\n",
    "    \n",
    "    main_df = main_df[(np.abs(zscore(main_df['power'])) < 3)]\n",
    "\n",
    "    X = main_df[[\"day_of_week\", \"time_of_day\", \"location\", \"frequency\"]]\n",
    "    y = main_df[\"power\"]\n",
    "    X_train, X_test, y_train, y_test = train_test_split(X, y, test_size=0.2, random_state=42)\n",
    "    weights = np.linspace(0.00001, 1, len(main_df))\n",
    "    regressor = xgb.XGBRegressor(n_estimators=50, early_stopping_rounds=10, learning_rate=0.9)\n",
    "    regressor.fit(X_train, y_train, eval_set=[(X_train, y_train), (X_test, y_test)], sample_weight=weights[-len(y_train):], verbose=0)\n",
    "    \n",
    "    y_pred = regressor.predict(X_test)\n",
    "    mse = mean_squared_error(y_test, y_pred)\n",
    "    print(\"Mean Squared Error (MSE):\", mse)\n",
    "    # mape = np.mean(np.abs((y_test - y_pred) / y_test)) * 100\n",
    "    # print(\"Mean Absolute Percentage Error (MAPE):\", mape, \"%\")\n",
    "    baseline_mse = mean_squared_error(y_test, np.full_like(y_test, np.mean(y_train)))\n",
    "    print(\"Base-line MSE: \", baseline_mse)\n",
    "    # cv_rmse = (root_mean_squared_error(y_test, y_pred)) / np.median(y_test)\n",
    "    # print(\"Coefficient of Variation (CV) of RMSE:\", cv_rmse)\n",
    "    print(\"R² Score:\", regressor.score(X_test, y_test))"
   ]
  },
  {
   "cell_type": "code",
   "execution_count": 17,
   "id": "2fe96da4",
   "metadata": {},
   "outputs": [
    {
     "name": "stdout",
     "output_type": "stream",
     "text": [
      "Location: 0\n",
      "Mean Squared Error (MSE): 16.925343711348777\n",
      "Base-line MSE:  105.62566676774357\n",
      "R² Score: 0.83976106489778\n",
      "\n",
      "\n",
      "Location: 1\n",
      "Mean Squared Error (MSE): 7.588835563222819\n",
      "Base-line MSE:  161.45067035150046\n",
      "R² Score: 0.9529959482145992\n",
      "\n",
      "\n",
      "Location: 2\n",
      "Mean Squared Error (MSE): 16.8722401628461\n",
      "Base-line MSE:  114.14558098296057\n",
      "R² Score: 0.8521866528606687\n",
      "\n",
      "\n",
      "Location: 3\n",
      "Mean Squared Error (MSE): 10.615529441473681\n",
      "Base-line MSE:  117.13448954225272\n",
      "R² Score: 0.9093731449518121\n",
      "\n",
      "\n",
      "Location: 4\n",
      "Mean Squared Error (MSE): 17.118811338856762\n",
      "Base-line MSE:  126.25004317047102\n",
      "R² Score: 0.8644053378584553\n",
      "\n",
      "\n",
      "Location: 5\n",
      "Mean Squared Error (MSE): 31.19879260315995\n",
      "Base-line MSE:  62.51468241590584\n",
      "R² Score: 0.5009365574992378\n",
      "\n",
      "\n",
      "Location: 6\n",
      "Mean Squared Error (MSE): 8.546668812775044\n",
      "Base-line MSE:  157.8854339540428\n",
      "R² Score: 0.9458678947687993\n",
      "\n",
      "\n",
      "Location: 7\n",
      "Mean Squared Error (MSE): 10.409646490337904\n",
      "Base-line MSE:  124.80094805342866\n",
      "R² Score: 0.9165899721471189\n",
      "\n",
      "\n"
     ]
    }
   ],
   "source": [
    "def get_location_wise_stats():\n",
    "    for location in range(8):\n",
    "        print(f\"Location: {location}\")\n",
    "        df = main_df[main_df[\"location\"]==location]\n",
    "        train_model(df, scale=False)\n",
    "        print(\"\\n\")\n",
    "\n",
    "def get_time_wise_stats():\n",
    "    for time in range(4):\n",
    "        print(f\"Time of the Day: {time}\")\n",
    "        df = main_df[main_df[\"time_of_day\"]==time]\n",
    "        train_model(df, scale=False)\n",
    "        print(\"\\n\")\n",
    "\n",
    "def get_day_wise_stats():\n",
    "    for day in range(7):\n",
    "        print(f\"Day of the week: {day}\")\n",
    "        df = main_df[main_df[\"day_of_week\"]==day]\n",
    "        train_model(df, scale=False)\n",
    "        print(\"\\n\")\n",
    "\n",
    "get_location_wise_stats()\n",
    "# train_model(main_df, scale=False)"
   ]
  },
  {
   "cell_type": "code",
   "execution_count": 9,
   "id": "91965bbe",
   "metadata": {},
   "outputs": [
    {
     "data": {
      "image/png": "[encoded data removed]",
      "text/plain": [
       "<Figure size 640x480 with 1 Axes>"
      ]
     },
     "metadata": {},
     "output_type": "display_data"
    },
    {
     "data": {
      "image/png": "[encoded data removed]",
      "text/plain": [
       "<Figure size 640x480 with 2 Axes>"
      ]
     },
     "metadata": {},
     "output_type": "display_data"
    }
   ],
   "source": [
    "import seaborn as sns\n",
    "import matplotlib.pyplot as plt\n",
    "\n",
    "# df_main = main_df.drop([\"Date\"], axis=1)\n",
    "# corr_matrix = df_main.corr()\n",
    "# sns.heatmap(corr_matrix, annot=True, cmap=\"coolwarm\")\n",
    "# plt.show()\n",
    "\n",
    "df_main = main_df.drop([\"Date\"], axis=1)\n",
    "\n",
    "corr_matrix = df_main.corr()\n",
    "power_corr = corr_matrix[\"power\"].drop(\"power\")\n",
    "power_corr.plot(kind='bar', color='#efeee7', edgecolor='black')\n",
    "plt.title(\"Correlation of 'power' with other features\")\n",
    "plt.ylabel(\"Correlation coefficient\")\n",
    "plt.xticks(rotation=20, ha='right')\n",
    "# plt.grid(True)\n",
    "plt.axhline(y=0, color='black', linewidth=1)\n",
    "plt.show()\n",
    "\n",
    "cols = ['power'] + [col for col in corr_matrix.columns if col != 'power']\n",
    "corr_matrix = corr_matrix.loc[cols, cols]\n",
    "sns.heatmap(corr_matrix, annot=True, cmap=\"coolwarm\")\n",
    "plt.title(\"Correlation Matrix\")\n",
    "plt.show()"
   ]
  },
  {
   "cell_type": "code",
   "execution_count": null,
   "id": "8f9f4a1d-e060-4828-a7ad-61d7a7241908",
   "metadata": {
    "scrolled": true
   },
   "outputs": [
    {
     "name": "stdout",
     "output_type": "stream",
     "text": [
      "R² Score: 0.3990731984461183\n"
     ]
    }
   ],
   "source": [
    "from sklearn.ensemble import RandomForestRegressor\n",
    "import lightgbm as lgb\n",
    "from catboost import CatBoostRegressor\n",
    "from sklearn.neural_network import MLPRegressor\n",
    "\n",
    "weights = np.linspace(0.00001, 1, len(main_df))\n",
    "regressor = xgb.XGBRegressor(n_estimators=50, early_stopping_rounds=10)\n",
    "regressor.fit(X_train, y_train, eval_set=[(X_train, y_train), (X_test, y_test)], sample_weight=weights[-len(y_train):], verbose=0)\n",
    "# regressor = RandomForestRegressor(n_estimators=100, random_state=42)\n",
    "# regressor.fit(X_train, y_train)\n",
    "# regressor = lgb.LGBMRegressor(n_estimators=100)\n",
    "# regressor.fit(X_train, y_train)\n",
    "# cat = CatBoostRegressor(iterations=500, depth=6, learning_rate=0.025, verbose=0)\n",
    "# cat.fit(X_train, y_train)\n",
    "# mlp = MLPRegressor(hidden_layer_sizes=(512, 256), max_iter=500, random_state=42)\n",
    "# mlp.fit(X_train, y_train)\n",
    "print(\"R² Score:\", regressor.score(X_test, y_test))"
   ]
  },
  {
   "cell_type": "code",
   "execution_count": 98,
   "id": "31e86b42",
   "metadata": {},
   "outputs": [
    {
     "name": "stdout",
     "output_type": "stream",
     "text": [
      "R² Score: 0.3990731984461183\n"
     ]
    }
   ],
   "source": [
    "print(\"R² Score:\", regressor.score(X_test, y_test))"
   ]
  },
  {
   "cell_type": "code",
   "execution_count": 96,
   "id": "cdd83537-6738-47bf-ae1d-f2fa7fadb348",
   "metadata": {},
   "outputs": [
    {
     "data": {
      "text/plain": [
       "array([0.00666157, 0.03087645, 0.962462  ], dtype=float32)"
      ]
     },
     "execution_count": 96,
     "metadata": {},
     "output_type": "execute_result"
    }
   ],
   "source": [
    "regressor.feature_importances_"
   ]
  },
  {
   "cell_type": "code",
   "execution_count": 26,
   "id": "d49ae6be-02b0-45bf-8a29-c391de93ad41",
   "metadata": {},
   "outputs": [
    {
     "data": {
      "text/plain": [
       "0.0"
      ]
     },
     "execution_count": 26,
     "metadata": {},
     "output_type": "execute_result"
    }
   ],
   "source": [
    "main_df[\"power\"].min()"
   ]
  },
  {
   "cell_type": "code",
   "execution_count": 97,
   "id": "caa8acff-c585-418c-ae25-60456afc4b85",
   "metadata": {},
   "outputs": [
    {
     "name": "stdout",
     "output_type": "stream",
     "text": [
      "R² Score: 0.3990731984461183\n"
     ]
    }
   ],
   "source": [
    "from sklearn.metrics import r2_score\n",
    "\n",
    "r2 = r2_score(y_test, regressor.predict(X_test))\n",
    "print(f\"R² Score: {r2}\")"
   ]
  },
  {
   "cell_type": "code",
   "execution_count": 61,
   "id": "3e939fc8-70fe-4344-b893-c7661499ac8e",
   "metadata": {},
   "outputs": [
    {
     "data": {
      "text/plain": [
       "<Axes: title={'center': 'Feature importance'}, xlabel='F score', ylabel='Features'>"
      ]
     },
     "execution_count": 61,
     "metadata": {},
     "output_type": "execute_result"
    },
    {
     "data": {
      "image/png": "[encoded data removed]",
      "text/plain": [
       "<Figure size 640x480 with 1 Axes>"
      ]
     },
     "metadata": {},
     "output_type": "display_data"
    }
   ],
   "source": [
    "xgb.plot_importance(regressor)\n",
    "# plt.show()"
   ]
  },
  {
   "cell_type": "code",
   "execution_count": null,
   "id": "c7b4b513-c67e-4b45-8a26-2acca95e3e91",
   "metadata": {},
   "outputs": [],
   "source": []
  },
  {
   "cell_type": "markdown",
   "id": "50eefce1-08e9-459b-8e55-b64b7fa91084",
   "metadata": {},
   "source": [
    "Results:\n",
    "\n",
    "weights .1 to 1; lr = default; non standardise; mse = 3.53; min = -117.38; max = -48.64; baselinemse: 129.38; r2 = .903\n",
    "\n",
    "weights .001 to 1; lr = default; standard scaler; mse = .309; min = -1.76; max = 4.33; baselinemse: 1.0001; r2 = .9043\n",
    "\n",
    "weights .001 to 1; lr = default; min max scaler; mse = .5057; min = 0; max = 1; baselinemse: 0.026; r2 = .9043\n",
    "\n",
    "900 to 928: rmse 0.078, min max scaler, r2 = 0.47, 300 csvs from each location; 0.57 Million rows; Feature imp: 15-82\n",
    "\n",
    "2400 to 2500: rmse 0.064, min max scaler, r2 = 0.82, 300 csvs from each location; 2.22 Million rows; Feature imp: 21-73\n",
    "\n",
    "5725 to 5875: rmse 0.061, min max scaler, r2 = 0.38, 300 csvs from each location; 3.32 Million rows; Feature imp: 40-52"
   ]
  },
  {
   "cell_type": "code",
   "execution_count": null,
   "id": "d9352564-a77f-49ab-9802-fa6cd11e1333",
   "metadata": {},
   "outputs": [],
   "source": []
  }
 ],
 "metadata": {
  "kernelspec": {
   "display_name": "Python 3",
   "language": "python",
   "name": "python3"
  },
  "language_info": {
   "codemirror_mode": {
    "name": "ipython",
    "version": 3
   },
   "file_extension": ".py",
   "mimetype": "text/x-python",
   "name": "python",
   "nbconvert_exporter": "python",
   "pygments_lexer": "ipython3",
   "version": "3.13.3"
  }
 },
 "nbformat": 4,
 "nbformat_minor": 5
}
