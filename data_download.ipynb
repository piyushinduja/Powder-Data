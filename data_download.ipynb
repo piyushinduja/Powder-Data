{
 "cells": [
  {
   "cell_type": "code",
   "execution_count": 1,
   "id": "e6fe69e9-f057-456f-af62-09a8caaf9bfc",
   "metadata": {},
   "outputs": [],
   "source": [
    "import tarfile\n",
    "import gzip\n",
    "import shutil\n",
    "import os\n",
    "from tqdm import tqdm\n",
    "import pandas as pd\n",
    "from datetime import datetime\n",
    "from io import BytesIO\n",
    "import gdown"
   ]
  },
  {
   "cell_type": "code",
   "execution_count": 2,
   "id": "53d3d9f9-303d-4dce-a0cf-ac7c15facba0",
   "metadata": {},
   "outputs": [],
   "source": [
    "# SAMPLE = 100\n",
    "\n",
    "def extract_csv_from_drive(link, idx):\n",
    "    file_path = f\"data_{idx}.tar.gz\"\n",
    "    gdown.download(link, file_path, quiet=False, fuzzy=True)\n",
    "    \n",
    "    with tarfile.open(file_path, \"r:gz\") as tar:\n",
    "        for member in tqdm(tar.getmembers()):\n",
    "            if member.name.endswith(\".csv.gz\"): \n",
    "                safe_name = member.name.replace(\":\", \"_\")\n",
    "                member.name = os.path.basename(safe_name)\n",
    "                tar.extract(member, f\"extracted_data/data_{idx}\")\n",
    "\n",
    "    for file in tqdm(os.listdir(f\"extracted_data/data_{idx}\")):\n",
    "        if file.endswith(\".csv.gz\"):\n",
    "            gz_file_path = os.path.join(f\"extracted_data/data_{idx}\", file)\n",
    "            csv_file_path = os.path.join(f\"final_csv_files/data_{idx}\", file.replace(\".gz\", \"\"))\n",
    "            with gzip.open(gz_file_path, \"rb\") as gz_file, open(csv_file_path, \"wb\") as csv_file:\n",
    "                shutil.copyfileobj(gz_file, csv_file)"
   ]
  },
  {
   "cell_type": "code",
   "execution_count": 3,
   "id": "4a8dddce-6eef-4013-b2c2-c9898c0bfa64",
   "metadata": {},
   "outputs": [],
   "source": [
    "# drive_links = [\"https://drive.google.com/file/d/1UrIllwm2FIt-AEIPPPf0jS_9UU8pnNK6/view?usp=sharing\", \"https://drive.google.com/file/d/12OHCjEK0E__7PUsfhkCNtLJHIjt_PLLg/view?usp=sharing\", \"https://drive.google.com/file/d/1D-iPGMbbra6VRZ-qpBChd98TLdxdtRih/view?usp=sharing\", \"https://drive.google.com/file/d/1QwRH6U6f0U_fwb4FSeQ7cD5rfE_D1fh4/view?usp=sharing\", \"https://drive.google.com/file/d/1qleN-t1xdRy0xwDiK6A-eRxjL4sZZMoo/view\", \"https://drive.google.com/file/d/13aenLqZxxGYC45vjV4poqI5ReYqx20R_/view\"]\n",
    "# drive_links = [\"https://drive.google.com/file/d/1qleN-t1xdRy0xwDiK6A-eRxjL4sZZMoo/view\", \"https://drive.google.com/file/d/13aenLqZxxGYC45vjV4poqI5ReYqx20R_/view\"]\n",
    "# drive_links = [\"https://drive.google.com/file/d/11Ev3UIUVgTtq6DcNgN6AzoMoXEnXwXdi/view\", \"https://drive.google.com/file/d/1AyuMRb8eBP_GErKe1WaZ9ogeGxipWX_n/view\"]\n",
    "drive_links = [\"https://drive.google.com/file/d/1XUOykVJT1w7G94U49yZ48IRQvvQ5SRk9/view\", \"https://drive.google.com/file/d/1QdKRy0gqSEyFjitK9EZpKxNhAclUrMZL/view\"]\n",
    "download_folder = \"downloaded_data\"\n",
    "os.makedirs(download_folder, exist_ok=True)"
   ]
  },
  {
   "cell_type": "code",
   "execution_count": 4,
   "id": "bf2c46ff-8d17-4647-a443-7cb571a10d00",
   "metadata": {},
   "outputs": [
    {
     "name": "stderr",
     "output_type": "stream",
     "text": [
      "Downloading...\n",
      "From (original): https://drive.google.com/uc?id=1XUOykVJT1w7G94U49yZ48IRQvvQ5SRk9\n",
      "From (redirected): https://drive.google.com/uc?id=1XUOykVJT1w7G94U49yZ48IRQvvQ5SRk9&confirm=t&uuid=df1c463d-9cab-47dc-bc65-2ddf121e0fea\n",
      "To: c:\\Users\\piyus\\OneDrive\\Word Documents\\GitHub\\Powder-Data\\data_8.tar.gz\n",
      "100%|██████████| 1.98G/1.98G [00:28<00:00, 69.2MB/s]\n",
      "  0%|          | 0/3417 [00:00<?, ?it/s]C:\\Users\\piyus\\AppData\\Local\\Temp\\ipykernel_14988\\1624412975.py:12: DeprecationWarning: Python 3.14 will, by default, filter extracted tar archives and reject files or modify their metadata. Use the filter argument to control this behavior.\n",
      "  tar.extract(member, f\"extracted_data/data_{idx}\")\n",
      "100%|██████████| 3417/3417 [00:18<00:00, 183.90it/s]\n",
      "100%|██████████| 3417/3417 [00:35<00:00, 96.20it/s] \n",
      "Downloading...\n",
      "From (original): https://drive.google.com/uc?id=1QdKRy0gqSEyFjitK9EZpKxNhAclUrMZL\n",
      "From (redirected): https://drive.google.com/uc?id=1QdKRy0gqSEyFjitK9EZpKxNhAclUrMZL&confirm=t&uuid=8fbbfd2f-4934-489f-90cc-15ef7188d2e0\n",
      "To: c:\\Users\\piyus\\OneDrive\\Word Documents\\GitHub\\Powder-Data\\data_9.tar.gz\n",
      "100%|██████████| 2.60G/2.60G [00:42<00:00, 60.7MB/s]\n",
      "100%|██████████| 4466/4466 [00:28<00:00, 155.95it/s]\n",
      "100%|██████████| 4466/4466 [00:58<00:00, 76.65it/s]\n"
     ]
    }
   ],
   "source": [
    "os.makedirs(\"extracted_data\", exist_ok=True)\n",
    "os.makedirs(\"final_csv_files\", exist_ok=True)\n",
    "for idx, link in enumerate(drive_links, start=8):\n",
    "    os.makedirs(f\"extracted_data/data_{idx}\", exist_ok=True)\n",
    "    os.makedirs(f\"final_csv_files/data_{idx}\", exist_ok=True)\n",
    "    extract_csv_from_drive(link, idx)"
   ]
  },
  {
   "cell_type": "code",
   "execution_count": null,
   "id": "00889ba9-fe0e-42c8-be82-397b04c1347a",
   "metadata": {},
   "outputs": [],
   "source": []
  },
  {
   "cell_type": "code",
   "execution_count": null,
   "id": "7cb8163e-0c48-4aef-8a07-9bbbcdb7a52d",
   "metadata": {},
   "outputs": [],
   "source": [
    "def get_time_of_day(hour):\n",
    "    if 6 <= hour < 12:\n",
    "        return \"Morning\"\n",
    "    elif 12 <= hour < 18:\n",
    "        return \"Afternoon\"\n",
    "    elif 18 <= hour < 24:\n",
    "        return \"Evening\"\n",
    "    else:\n",
    "        return \"Night\""
   ]
  },
  {
   "cell_type": "code",
   "execution_count": null,
   "id": "92545571-41e4-4dc5-b8c6-ff3910d780aa",
   "metadata": {},
   "outputs": [],
   "source": [
    "dataframes = []\n",
    "\n",
    "for idx, link in enumerate(drive_links):\n",
    "    tar_file_path = os.path.join(download_folder, f\"data_{idx}.tar.gz\")\n",
    "    gdown.download(link, tar_file_path, quiet=False)\n",
    "    \n",
    "\n",
    "    with tarfile.open(tar_file_path, \"r:gz\") as tar:\n",
    "        tar.extractall(download_folder)\n",
    "\n",
    "    extracted_folder = os.path.join(download_folder, f\"data_{idx}\")\n",
    "    for root, _, files in os.walk(extracted_folder):\n",
    "            if file.endswith(\".csv\"):\n",
    "                file_path = os.path.join(root, file)\n",
    "                df = pd.read_csv(file_path)\n",
    "                timestamp = int(file.split('-')[1].split('.')[0])\n",
    "                local_dt = datetime.fromtimestamp(timestamp)\n",
    "                day = local_dt.strftime('%Y-%m-%d')\n",
    "                time_of_day = get_time_of_day(local_dt.hour)\n",
    "                df[\"Location_ID\"] = idx\n",
    "                df[\"Day\"] = day\n",
    "                df[\"Time_of_Day\"] = time_of_day\n",
    "                dataframes.append(df)\n",
    "\n",
    "main_df = pd.concat(dataframes, ignore_index=True)"
   ]
  }
 ],
 "metadata": {
  "kernelspec": {
   "display_name": "Python 3",
   "language": "python",
   "name": "python3"
  },
  "language_info": {
   "codemirror_mode": {
    "name": "ipython",
    "version": 3
   },
   "file_extension": ".py",
   "mimetype": "text/x-python",
   "name": "python",
   "nbconvert_exporter": "python",
   "pygments_lexer": "ipython3",
   "version": "3.13.3"
  }
 },
 "nbformat": 4,
 "nbformat_minor": 5
}
